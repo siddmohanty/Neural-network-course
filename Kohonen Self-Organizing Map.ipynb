{
 "cells": [
  {
   "cell_type": "code",
   "execution_count": 8,
   "metadata": {},
   "outputs": [
    {
     "name": "stdout",
     "output_type": "stream",
     "text": [
      "[[0.2, 0.9], [0.4, 0.7], [0.6, 0.5], [0.8, 0.3]]\n"
     ]
    }
   ],
   "source": [
    "w = [[0.2,0.9],[0.4,0.7],[0.6, 0.5],[0.8, 0.3]]\n",
    "a = 0.6\n",
    "print(w)"
   ]
  },
  {
   "cell_type": "code",
   "execution_count": 9,
   "metadata": {},
   "outputs": [],
   "source": [
    "x1 = [1,1,0,0]\n",
    "x2 = [0,0,0,1]\n",
    "x3 = [1,0,0,0]\n",
    "x4 = [0,0,1,1]\n",
    "\n"
   ]
  },
  {
   "cell_type": "code",
   "execution_count": 10,
   "metadata": {},
   "outputs": [
    {
     "name": "stdout",
     "output_type": "stream",
     "text": [
      "D1= 2.0\n",
      "D2= 0.44000000000000006\n",
      "Weight Matrix:\n",
      "[0.2, 0.96]\n",
      "[0.4, 0.27999999999999997]\n",
      "[0.6, 0.2]\n",
      "[0.8, 0.12]\n"
     ]
    }
   ],
   "source": [
    "D1=D2=0\n",
    "for i in range(0, 4):\n",
    "    D1 += (w[i][0]-x1[i])**2\n",
    "    D2 += (w[i][1]-x1[i])**2\n",
    "print(\"D1=\",D1)\n",
    "print(\"D2=\",D2)\n",
    "j_col = 0\n",
    "if(D1>D2):\n",
    "    j_col = 1\n",
    "else:\n",
    "    j_col = 0\n",
    "\n",
    "for i in range(0, 4):\n",
    "    w[i][j_col] = (w[i][j_col] + a*(x3[i]-w[i][j_col]))\n",
    "print(\"Weight Matrix:\")\n",
    "for i in w:\n",
    "    print(i)"
   ]
  },
  {
   "cell_type": "code",
   "execution_count": 11,
   "metadata": {},
   "outputs": [
    {
     "name": "stdout",
     "output_type": "stream",
     "text": [
      "D1= 0.6000000000000001\n",
      "D2= 1.8144\n",
      "Weight Matrix:\n",
      "[0.6799999999999999, 0.96]\n",
      "[0.16000000000000003, 0.27999999999999997]\n",
      "[0.24, 0.2]\n",
      "[0.32000000000000006, 0.12]\n"
     ]
    }
   ],
   "source": [
    "D1=D2=0\n",
    "for i in range(0, 4):\n",
    "    D1 += (w[i][0]-x2[i])**2\n",
    "    D2 += (w[i][1]-x2[i])**2\n",
    "print(\"D1=\",D1)\n",
    "print(\"D2=\",D2)\n",
    "j_col = 0\n",
    "if(D1>D2):\n",
    "    j_col = 1\n",
    "else:\n",
    "    j_col = 0\n",
    "\n",
    "for i in range(0, 4):\n",
    "    w[i][j_col] = (w[i][j_col] + a*(x3[i]-w[i][j_col]))\n",
    "print(\"Weight Matrix:\")\n",
    "for i in w:\n",
    "    print(i)"
   ]
  },
  {
   "cell_type": "code",
   "execution_count": 12,
   "metadata": {},
   "outputs": [
    {
     "name": "stdout",
     "output_type": "stream",
     "text": [
      "D1= 0.2880000000000001\n",
      "D2= 0.1344\n",
      "Weight Matrix:\n",
      "[0.6799999999999999, 0.984]\n",
      "[0.16000000000000003, 0.11199999999999999]\n",
      "[0.24, 0.08000000000000002]\n",
      "[0.32000000000000006, 0.048]\n"
     ]
    }
   ],
   "source": [
    "D1=D2=0\n",
    "for i in range(0, 4):\n",
    "    D1 += (w[i][0]-x3[i])**2\n",
    "    D2 += (w[i][1]-x3[i])**2\n",
    "print(\"D1=\",D1)\n",
    "print(\"D2=\",D2)\n",
    "j_col = 0\n",
    "if(D1>D2):\n",
    "    j_col = 1\n",
    "else:\n",
    "    j_col = 0\n",
    "\n",
    "for i in range(0, 4):\n",
    "    w[i][j_col] = (w[i][j_col] + a*(x3[i]-w[i][j_col]))\n",
    "print(\"Weight Matrix:\")\n",
    "for i in w:\n",
    "    print(i)"
   ]
  },
  {
   "cell_type": "code",
   "execution_count": 13,
   "metadata": {},
   "outputs": [
    {
     "name": "stdout",
     "output_type": "stream",
     "text": [
      "D1= 1.5279999999999998\n",
      "D2= 2.733504\n",
      "Weight Matrix:\n",
      "[0.872, 0.984]\n",
      "[0.06400000000000002, 0.11199999999999999]\n",
      "[0.096, 0.08000000000000002]\n",
      "[0.12800000000000003, 0.048]\n"
     ]
    }
   ],
   "source": [
    "D1=D2=0\n",
    "for i in range(0, 4):\n",
    "    D1 += (w[i][0]-x4[i])**2\n",
    "    D2 += (w[i][1]-x4[i])**2\n",
    "print(\"D1=\",D1)\n",
    "print(\"D2=\",D2)\n",
    "j_col = 0\n",
    "if(D1>D2):\n",
    "    j_col = 1\n",
    "else:\n",
    "    j_col = 0\n",
    "\n",
    "for i in range(0, 4):\n",
    "    w[i][j_col] = (w[i][j_col] + a*(x3[i]-w[i][j_col]))\n",
    "print(\"Weight Matrix:\")\n",
    "for i in w:\n",
    "    print(i)"
   ]
  },
  {
   "cell_type": "code",
   "execution_count": null,
   "metadata": {},
   "outputs": [],
   "source": []
  },
  {
   "cell_type": "code",
   "execution_count": null,
   "metadata": {},
   "outputs": [],
   "source": []
  },
  {
   "cell_type": "code",
   "execution_count": null,
   "metadata": {},
   "outputs": [],
   "source": []
  },
  {
   "cell_type": "code",
   "execution_count": null,
   "metadata": {},
   "outputs": [],
   "source": []
  }
 ],
 "metadata": {
  "kernelspec": {
   "display_name": "Python 3",
   "language": "python",
   "name": "python3"
  },
  "language_info": {
   "codemirror_mode": {
    "name": "ipython",
    "version": 3
   },
   "file_extension": ".py",
   "mimetype": "text/x-python",
   "name": "python",
   "nbconvert_exporter": "python",
   "pygments_lexer": "ipython3",
   "version": "3.7.2"
  }
 },
 "nbformat": 4,
 "nbformat_minor": 2
}
